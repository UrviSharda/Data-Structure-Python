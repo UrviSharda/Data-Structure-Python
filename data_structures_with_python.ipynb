{
  "nbformat": 4,
  "nbformat_minor": 0,
  "metadata": {
    "colab": {
      "provenance": []
    },
    "kernelspec": {
      "name": "python3",
      "display_name": "Python 3"
    },
    "language_info": {
      "name": "python"
    }
  },
  "cells": [
    {
      "cell_type": "code",
      "execution_count": 1,
      "metadata": {
        "colab": {
          "base_uri": "https://localhost:8080/"
        },
        "id": "MWh9bmQaP2eL",
        "outputId": "7377ae91-f1dd-4d31-e392-519360b173f7"
      },
      "outputs": [
        {
          "output_type": "stream",
          "name": "stdout",
          "text": [
            "Pushed 10 to stack.\n",
            "Pushed 20 to stack.\n",
            "Stack: [10, 20]\n",
            "Top element: 20\n",
            "Popped 20 from stack.\n",
            "Stack: [10]\n"
          ]
        }
      ],
      "source": [
        "# stack.py\n",
        "# Implementation of Stack (LIFO)\n",
        "\n",
        "class Stack:\n",
        "    def __init__(self):\n",
        "        self.stack = []\n",
        "\n",
        "    def push(self, item):\n",
        "        self.stack.append(item)\n",
        "        print(f\"Pushed {item} to stack.\")\n",
        "\n",
        "    def pop(self):\n",
        "        if not self.is_empty():\n",
        "            removed = self.stack.pop()\n",
        "            print(f\"Popped {removed} from stack.\")\n",
        "            return removed\n",
        "        else:\n",
        "            print(\"Stack is empty!\")\n",
        "            return None\n",
        "\n",
        "    def peek(self):\n",
        "        if not self.is_empty():\n",
        "            return self.stack[-1]\n",
        "        return \"Stack is empty!\"\n",
        "\n",
        "    def is_empty(self):\n",
        "        return len(self.stack) == 0\n",
        "\n",
        "    def display(self):\n",
        "        print(\"Stack:\", self.stack)\n",
        "\n",
        "\n",
        "if __name__ == \"__main__\":\n",
        "    s = Stack()\n",
        "    s.push(10)\n",
        "    s.push(20)\n",
        "    s.display()\n",
        "    print(\"Top element:\", s.peek())\n",
        "    s.pop()\n",
        "    s.display()\n"
      ]
    },
    {
      "cell_type": "code",
      "source": [
        "# queue.py\n",
        "# Implementation of Queue (FIFO)\n",
        "\n",
        "class Queue:\n",
        "    def __init__(self):\n",
        "        self.queue = []\n",
        "\n",
        "    def enqueue(self, item):\n",
        "        self.queue.append(item)\n",
        "        print(f\"Enqueued {item} to queue.\")\n",
        "\n",
        "    def dequeue(self):\n",
        "        if not self.is_empty():\n",
        "            removed = self.queue.pop(0)\n",
        "            print(f\"Dequeued {removed} from queue.\")\n",
        "            return removed\n",
        "        else:\n",
        "            print(\"Queue is empty!\")\n",
        "            return None\n",
        "\n",
        "    def is_empty(self):\n",
        "        return len(self.queue) == 0\n",
        "\n",
        "    def display(self):\n",
        "        print(\"Queue:\", self.queue)\n",
        "\n",
        "\n",
        "if __name__ == \"__main__\":\n",
        "    q = Queue()\n",
        "    q.enqueue(10)\n",
        "    q.enqueue(20)\n",
        "    q.display()\n",
        "    q.dequeue()\n",
        "    q.display()\n"
      ],
      "metadata": {
        "colab": {
          "base_uri": "https://localhost:8080/"
        },
        "id": "IVyZLAcsQnBC",
        "outputId": "5c7d74a7-4810-41bc-9a04-0c2e7b955801"
      },
      "execution_count": 4,
      "outputs": [
        {
          "output_type": "stream",
          "name": "stdout",
          "text": [
            "Enqueued 10 to queue.\n",
            "Enqueued 20 to queue.\n",
            "Queue: [10, 20]\n",
            "Dequeued 10 from queue.\n",
            "Queue: [20]\n"
          ]
        }
      ]
    },
    {
      "cell_type": "code",
      "source": [
        "# linked_list.py\n",
        "# Simple Linked List Implementation\n",
        "\n",
        "class Node:\n",
        "    def __init__(self, data):\n",
        "        self.data = data\n",
        "        self.next = None\n",
        "\n",
        "class LinkedList:\n",
        "    def __init__(self):\n",
        "        self.head = None\n",
        "\n",
        "    def insert(self, data):\n",
        "        new_node = Node(data)\n",
        "        new_node.next = self.head\n",
        "        self.head = new_node\n",
        "        print(f\"Inserted {data} into linked list.\")\n",
        "\n",
        "    def display(self):\n",
        "        temp = self.head\n",
        "        if not temp:\n",
        "            print(\"Linked List is empty!\")\n",
        "            return\n",
        "        print(\"Linked List: \", end=\"\")\n",
        "        while temp:\n",
        "            print(temp.data, end=\" -> \")\n",
        "            temp = temp.next\n",
        "        print(\"None\")\n",
        "\n",
        "\n",
        "if __name__ == \"__main__\":\n",
        "    ll = LinkedList()\n",
        "    ll.insert(10)\n",
        "    ll.insert(20)\n",
        "    ll.display()\n"
      ],
      "metadata": {
        "colab": {
          "base_uri": "https://localhost:8080/"
        },
        "id": "5isM9Aw_SXAy",
        "outputId": "c0b75472-5af2-4388-b8cc-526dd985e929"
      },
      "execution_count": 5,
      "outputs": [
        {
          "output_type": "stream",
          "name": "stdout",
          "text": [
            "Inserted 10 into linked list.\n",
            "Inserted 20 into linked list.\n",
            "Linked List: 20 -> 10 -> None\n"
          ]
        }
      ]
    }
  ]
}